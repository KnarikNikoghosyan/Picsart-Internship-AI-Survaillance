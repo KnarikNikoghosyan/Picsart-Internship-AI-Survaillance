{
 "cells": [
  {
   "cell_type": "code",
   "execution_count": 1,
   "metadata": {},
   "outputs": [],
   "source": [
    "import cv2\n",
    "import os\n",
    "import numpy as np"
   ]
  },
  {
   "cell_type": "code",
   "execution_count": 2,
   "metadata": {},
   "outputs": [],
   "source": [
    "face_cascade = cv2.CascadeClassifier(cv2.data.haarcascades + 'haarcascade_frontalface_default.xml')\n",
    "recognizer = cv2.face.LBPHFaceRecognizer_create()"
   ]
  },
  {
   "cell_type": "code",
   "execution_count": 3,
   "metadata": {},
   "outputs": [],
   "source": [
    "# Function to capture images and store in dataset folder\n",
    "def capture_images(User):\n",
    "\t# directory to store the captured images\n",
    "\tif not os.path.exists('Faces'):\n",
    "\t\tos.makedirs('Faces')\n",
    "  \n",
    "\tcap = cv2.VideoCapture(0)\n",
    "\tcount = 0\n",
    "\n",
    "\twhile True:\n",
    "\t\tret, frame = cap.read()\n",
    "\t\tgray = cv2.cvtColor(frame, cv2.COLOR_BGR2GRAY)\n",
    "\t\tfaces = face_cascade.detectMultiScale(gray, scaleFactor=1.1, minNeighbors=5, minSize=(30, 30))\n",
    "\n",
    "\t\t# Drawing rectangles around the faces\n",
    "\t\tfor (x, y, w, h) in faces:\n",
    "\t\t\tcv2.rectangle(frame, (x, y), (x + w, y + h), (0, 255, 0), 2)\n",
    "\n",
    "\t\t\t# Storing the captured face images in the Faces folder\n",
    "\t\t\tcv2.imwrite(f'Faces/{User}_{count}.jpg', gray[y:y + h, x:x + w])\n",
    "\t\t\tcount += 1\n",
    "\n",
    "\t\tcv2.imshow('Capture Faces', frame)\n",
    "\n",
    "\t\tif cv2.waitKey(1) & 0xFF == ord('q'):\n",
    "\t\t\tbreak\n",
    "\n",
    "\t\t# Break the loop after capturing a certain number of images\n",
    "\t\tif count >= 3:\n",
    "\t\t\tbreak\n",
    "\n",
    "\tcap.release()\n",
    "\tcv2.destroyAllWindows()"
   ]
  },
  {
   "cell_type": "code",
   "execution_count": 4,
   "metadata": {},
   "outputs": [],
   "source": [
    "# Creating the dataset of faces\n",
    "capture_images('Ann')"
   ]
  },
  {
   "cell_type": "code",
   "execution_count": 5,
   "metadata": {},
   "outputs": [],
   "source": [
    "# Create the dataset of faces\n",
    "capture_images('Bell')"
   ]
  },
  {
   "cell_type": "code",
   "execution_count": 6,
   "metadata": {},
   "outputs": [
    {
     "data": {
      "text/plain": [
       "{'Ann': 0, 'Bell': 1}"
      ]
     },
     "execution_count": 6,
     "metadata": {},
     "output_type": "execute_result"
    }
   ],
   "source": [
    "label = {'Ann' : 0, 'Bell' : 1}\n",
    "label"
   ]
  },
  {
   "cell_type": "code",
   "execution_count": 7,
   "metadata": {},
   "outputs": [
    {
     "data": {
      "text/plain": [
       "< cv2.face.LBPHFaceRecognizer 0x7f1f06be1af0>"
      ]
     },
     "execution_count": 7,
     "metadata": {},
     "output_type": "execute_result"
    }
   ],
   "source": [
    "def train_model(label):\n",
    "\t# Creating lists to store the face samples and their corresponding labels\n",
    "\tfaces = []\n",
    "\tlabels = []\n",
    "\t\n",
    "\t# Loadig images\n",
    "\tfor file_name in os.listdir('Faces'):\n",
    "\t\tif file_name.endswith('.jpg'):\n",
    "\t\t\tname = file_name.split('_')[0]\n",
    "\t\n",
    "\t\t\timage = cv2.imread(os.path.join('Faces', file_name))\n",
    "\t\t\tgray = cv2.cvtColor(image, cv2.COLOR_BGR2GRAY)\n",
    "\n",
    "\t\t\tdetected_faces = face_cascade.detectMultiScale(gray, scaleFactor=1.1, minNeighbors=5, minSize=(30, 30))\n",
    "\n",
    "\t\t\t# Checking if a face is detected\n",
    "\t\t\tif len(detected_faces) > 0:\n",
    "\t\t\t\t# Cropping the detected face region\n",
    "\t\t\t\tface_crop = gray[detected_faces[0][1]:detected_faces[0][1] + detected_faces[0][3],\n",
    "\t\t\t\t\t\t\t\tdetected_faces[0][0]:detected_faces[0][0] + detected_faces[0][2]]\n",
    "\n",
    "\t\t\t\t# Appending the face sample and label to the lists\n",
    "\t\t\t\tfaces.append(face_crop)\n",
    "\t\t\t\tlabels.append(label[name])\n",
    "\n",
    "\t# Training the face recognition model using the faces and labels\n",
    "\trecognizer = cv2.face.LBPHFaceRecognizer_create()\n",
    "\trecognizer.train(faces, np.array(labels))\n",
    "\n",
    "\t# Saving the trained model to a file\n",
    "\trecognizer.save('trained_model.xml')\n",
    "\treturn recognizer\n",
    "\n",
    "# Training the model\n",
    "Recognizer =train_model(label)\n",
    "Recognizer"
   ]
  },
  {
   "cell_type": "code",
   "execution_count": 8,
   "metadata": {},
   "outputs": [],
   "source": [
    "# Function to recognize faces\n",
    "def recognize_faces(recognizer, label):\n",
    "\tcap = cv2.VideoCapture(0)\n",
    "\t\n",
    "\t# Reverse keys and values in the dictionary\n",
    "\tlabel_name = {value: key for key, value in label.items()}\n",
    "\twhile True:\n",
    "\t\tret, frame = cap.read()\n",
    "\t\tgray = cv2.cvtColor(frame, cv2.COLOR_BGR2GRAY)\n",
    "\t\tfaces = face_cascade.detectMultiScale(gray, scaleFactor=1.1, minNeighbors=5, minSize=(30, 30))\n",
    "\t\t\n",
    "\t\t# Recognizing and labeling the faces\n",
    "\t\tfor (x, y, w, h) in faces:\n",
    "\t\t\t# Recognizing the face using the trained model\n",
    "\t\t\tlabel, confidence = recognizer.predict(gray[y:y + h, x:x + w])\n",
    "\t\t\t#print(confidence)\n",
    "\t\t\tif confidence > 50:\n",
    "\t\t\t\t# Displaying the recognized label and confidence level\n",
    "\t\t\t\tcv2.putText(frame, label_name[label], (x, y - 10), cv2.FONT_HERSHEY_SIMPLEX, 0.9, (0, 255, 0), 2)\n",
    "\t\t\t\tcv2.rectangle(frame, (x, y), (x + w, y + h), (0, 255, 0), 2)\n",
    "\t\t\telse:\n",
    "\t\t\t\tprint('Unrecognized')\n",
    "\n",
    "\t\tcv2.imshow('Recognize Faces', frame)\n",
    "  \n",
    "\t\tif cv2.waitKey(1) & 0xFF == ord('q'):\n",
    "\t\t\tbreak\n",
    "\n",
    "\tcap.release()\n",
    "\tcv2.destroyAllWindows()"
   ]
  },
  {
   "cell_type": "code",
   "execution_count": null,
   "metadata": {},
   "outputs": [],
   "source": [
    "recognize_faces(Recognizer, label)"
   ]
  },
  {
   "cell_type": "code",
   "execution_count": null,
   "metadata": {},
   "outputs": [],
   "source": []
  }
 ],
 "metadata": {
  "kernelspec": {
   "display_name": "Python 3",
   "language": "python",
   "name": "python3"
  },
  "language_info": {
   "codemirror_mode": {
    "name": "ipython",
    "version": 3
   },
   "file_extension": ".py",
   "mimetype": "text/x-python",
   "name": "python",
   "nbconvert_exporter": "python",
   "pygments_lexer": "ipython3",
   "version": "3.10.12"
  }
 },
 "nbformat": 4,
 "nbformat_minor": 2
}
