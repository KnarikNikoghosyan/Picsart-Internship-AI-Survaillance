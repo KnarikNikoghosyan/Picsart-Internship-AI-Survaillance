{
 "cells": [
  {
   "cell_type": "code",
   "execution_count": 1,
   "metadata": {},
   "outputs": [
    {
     "data": {
      "text/plain": [
       "13"
      ]
     },
     "execution_count": 1,
     "metadata": {},
     "output_type": "execute_result"
    },
    {
     "ename": "",
     "evalue": "",
     "output_type": "error",
     "traceback": [
      "\u001b[1;31mThe Kernel crashed while executing code in the current cell or a previous cell. \n",
      "\u001b[1;31mPlease review the code in the cell(s) to identify a possible cause of the failure. \n",
      "\u001b[1;31mClick <a href='https://aka.ms/vscodeJupyterKernelCrash'>here</a> for more info. \n",
      "\u001b[1;31mView Jupyter <a href='command:jupyter.viewOutput'>log</a> for further details."
     ]
    }
   ],
   "source": [
    "import cv2\n",
    "src = cv2.imread(\"threshold.png\", cv2.IMREAD_GRAYSCALE)\n",
    "cv2.imshow(\"image\", src)\n",
    "cv2.waitKey(0)\n",
    "\n",
    "# th, dst = cv2.threshold(src, 0, 255, cv2.THRESH_BINARY)\n",
    "# cv2.imwrite(\"opencv-threshold-example.png\", dst)\n",
    "# cv2.imshow(\"THRESH BINARY\", dst)\n",
    "# cv2.waitKey(0)\n",
    "# cv2.destroyAllWindows()\n",
    " \n",
    "# # Thresholding with maxValue set to 128\n",
    "# th, dst = cv2.threshold(src, 0, 128, cv2.THRESH_BINARY)\n",
    "# cv2.imwrite(\"opencv-thresh-binary-maxval.png\", dst)\n",
    "# cv2.imshow(\"THRESH BINARY with max value 128\", dst)\n",
    "# cv2.waitKey(0)\n",
    "# cv2.destroyAllWindows() \n",
    " \n",
    "# # Thresholding with threshold value set 127 \n",
    "# th, dst = cv2.threshold(src,127,255, cv2.THRESH_BINARY) \n",
    "# cv2.imwrite(\"opencv-thresh-binary.png\", dst)\n",
    "# cv2.imshow(\"THRESH BINARY with threshld 127\", dst)\n",
    "# cv2.waitKey(0)\n",
    "# cv2.destroyAllWindows()\n",
    " \n",
    "# # Thresholding using THRESH_BINARY_INV \n",
    "# th, dst = cv2.threshold(src,127,255, cv2.THRESH_BINARY_INV) \n",
    "# cv2.imwrite(\"opencv-thresh-binary-inv.png\", dst)\n",
    "# cv2.imshow(\"THRESH BINARY IVERSE\", dst)\n",
    "# cv2.waitKey(0)\n",
    "# cv2.destroyAllWindows()\n",
    " \n",
    "# # Thresholding using THRESH_TRUNC \n",
    "# th, dst = cv2.threshold(src,127,255, cv2.THRESH_TRUNC) \n",
    "# cv2.imwrite(\"opencv-thresh-trunc.png\", dst)\n",
    "# cv2.imshow(\"THRESH TRUNC\", dst)\n",
    "# cv2.waitKey(0)\n",
    "# cv2.destroyAllWindows()\n",
    " \n",
    "# # Thresholding using THRESH_TOZERO \n",
    "# th, dst = cv2.threshold(src,127,255, cv2.THRESH_TOZERO)\n",
    "# cv2.imwrite(\"opencv-thresh-tozero.png\", dst)\n",
    "# cv2.imshow(\"THRESH TOZERO\", dst)\n",
    "# cv2.waitKey(0)\n",
    "# cv2.destroyAllWindows() \n",
    " \n",
    "# # Thresholding using THRESH_TOZERO_INV \n",
    "# th, dst = cv2.threshold(src,127,255, cv2.THRESH_TOZERO_INV)\n",
    "# cv2.imwrite(\"opencv-thresh-to-zero-inv.png\", dst)\n",
    "# cv2.imshow(\"THRESH TOZERO INVERSE\", dst)\n",
    "# cv2.waitKey(0)\n",
    "# cv2.destroyAllWindows()"
   ]
  },
  {
   "cell_type": "code",
   "execution_count": null,
   "metadata": {},
   "outputs": [],
   "source": []
  }
 ],
 "metadata": {
  "kernelspec": {
   "display_name": "Python 3",
   "language": "python",
   "name": "python3"
  },
  "language_info": {
   "codemirror_mode": {
    "name": "ipython",
    "version": 3
   },
   "file_extension": ".py",
   "mimetype": "text/x-python",
   "name": "python",
   "nbconvert_exporter": "python",
   "pygments_lexer": "ipython3",
   "version": "3.10.12"
  }
 },
 "nbformat": 4,
 "nbformat_minor": 2
}
