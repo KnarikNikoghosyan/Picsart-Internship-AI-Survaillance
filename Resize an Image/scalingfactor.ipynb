{
 "cells": [
  {
   "cell_type": "code",
   "execution_count": 1,
   "metadata": {},
   "outputs": [
    {
     "data": {
      "text/plain": [
       "113"
      ]
     },
     "execution_count": 1,
     "metadata": {},
     "output_type": "execute_result"
    }
   ],
   "source": [
    "import cv2\n",
    "import numpy as np\n",
    " \n",
    "image = cv2.imread('image.jpg')\n",
    "cv2.imshow('Original Image', image)\n",
    "\n",
    "\n",
    "scale_up_x = 1.2\n",
    "scale_up_y = 1.2\n",
    "# Scaling down the image 0.6 times specifying a single scale factor\n",
    "scale_down = 0.6\n",
    " \n",
    "scaled_f_down = cv2.resize(image, None, fx= scale_down, fy= scale_down, interpolation= cv2.INTER_LINEAR)\n",
    "scaled_f_up = cv2.resize(image, None, fx= scale_up_x, fy= scale_up_y, interpolation= cv2.INTER_LINEAR)\n",
    "\n",
    "cv2.imshow('Resized Down by defining scaling factor', scaled_f_down)\n",
    "cv2.waitKey()\n",
    "cv2.imshow('Resized Up image by defining scaling factor', scaled_f_up)\n",
    "cv2.waitKey()\n"
   ]
  }
 ],
 "metadata": {
  "kernelspec": {
   "display_name": "Python 3",
   "language": "python",
   "name": "python3"
  },
  "language_info": {
   "codemirror_mode": {
    "name": "ipython",
    "version": 3
   },
   "file_extension": ".py",
   "mimetype": "text/x-python",
   "name": "python",
   "nbconvert_exporter": "python",
   "pygments_lexer": "ipython3",
   "version": "3.10.12"
  }
 },
 "nbformat": 4,
 "nbformat_minor": 2
}
